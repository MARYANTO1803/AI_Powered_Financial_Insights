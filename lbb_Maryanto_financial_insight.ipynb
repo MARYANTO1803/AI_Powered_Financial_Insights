{
 "cells": [
  {
   "cell_type": "markdown",
   "id": "214f0f01",
   "metadata": {},
   "source": [
    "# Penarikan Data (Data Collecting)"
   ]
  },
  {
   "cell_type": "markdown",
   "id": "742b5cb0",
   "metadata": {},
   "source": [
    "Data yang digunakan untuk analisa berasal dari https://sectors.app/. Untuk melakukan penarikan datanya menggunakan API Key yang telah disimpan kedalam file **.env**. Tujuan menggunakan **.env** adalah agar API Key kita aman dan tidak terlihat langsung dalam kode."
   ]
  },
  {
   "cell_type": "code",
   "execution_count": 1,
   "id": "1b7fb5bb",
   "metadata": {},
   "outputs": [],
   "source": [
    "from dotenv import load_dotenv\n",
    "import os"
   ]
  },
  {
   "cell_type": "markdown",
   "id": "0d95130c",
   "metadata": {},
   "source": [
    "Gunakan `load_dotenv()` untuk memuat semua variabel dari file .env kita."
   ]
  },
  {
   "cell_type": "code",
   "execution_count": 2,
   "id": "60559e43",
   "metadata": {},
   "outputs": [
    {
     "data": {
      "text/plain": [
       "True"
      ]
     },
     "execution_count": 2,
     "metadata": {},
     "output_type": "execute_result"
    }
   ],
   "source": [
    "load_dotenv()"
   ]
  },
  {
   "cell_type": "markdown",
   "id": "7f3b7d6d",
   "metadata": {},
   "source": [
    "Kemudian ambil key tersebut dari environment dan simpan dalam variabel. Gunakan `os.getenv(\"NAMA_VARIABEL\")` untuk mengambil nilai dari variabel tersebut."
   ]
  },
  {
   "cell_type": "code",
   "execution_count": 3,
   "id": "1faa89de",
   "metadata": {},
   "outputs": [],
   "source": [
    "SECTORS_API_KEY = os.getenv(\"SECTORS_API_KEY\")"
   ]
  },
  {
   "cell_type": "markdown",
   "id": "d605c529",
   "metadata": {},
   "source": [
    "Agar lebih mudah, alamat utama API dan header otorisasi disimpan kedalam variabel. Sehingga, tidak perlu mengetiknya berulang kali."
   ]
  },
  {
   "cell_type": "code",
   "execution_count": 4,
   "id": "1dedc38c",
   "metadata": {},
   "outputs": [],
   "source": [
    "BASE_URL = \"https://api.sectors.app/v1\"\n",
    "HEADERS = {\"Authorization\": SECTORS_API_KEY}"
   ]
  },
  {
   "cell_type": "markdown",
   "id": "64b9406d",
   "metadata": {},
   "source": [
    "> Penjelasan :\n",
    "- `BASE_URL` menyimpan alamat utama API, \n",
    "- `HEADERS` menyimpan API Key yang akan dikirim saat kita melakukan permintaan ke API."
   ]
  },
  {
   "cell_type": "markdown",
   "id": "ad54a6aa",
   "metadata": {},
   "source": [
    "## Extracting and Loading Financial Data"
   ]
  },
  {
   "cell_type": "markdown",
   "id": "2f5c8392",
   "metadata": {},
   "source": [
    "Tidak semua data di https://sectors.app digunakan untuk analisa. Untuk analisa kali ini hanya menggunakan data subsektor industri dan daftar perusahaan dari subsektor `Food Beverage`. Gunakan perintah import '`requests`' yang berfungsi sebagai \"kurir\" untuk mengirim permintaan kita.  "
   ]
  },
  {
   "cell_type": "code",
   "execution_count": 5,
   "id": "20900d5a",
   "metadata": {},
   "outputs": [],
   "source": [
    "import requests"
   ]
  },
  {
   "cell_type": "markdown",
   "id": "0c41e3d9",
   "metadata": {},
   "source": [
    "### Subsectors"
   ]
  },
  {
   "cell_type": "markdown",
   "id": "e276127b",
   "metadata": {},
   "source": [
    "Tentukan alamat lengkap pesanan kita berdasarkan dokumentasi. Gunakan `f\"{...}\"` untuk mempermudah menggabungkan string di Python."
   ]
  },
  {
   "cell_type": "code",
   "execution_count": 6,
   "id": "b6e9e0f4",
   "metadata": {},
   "outputs": [],
   "source": [
    "## BASE_URL/subsectors/\n",
    "url_subsectors = f\"{BASE_URL}/subsectors/\""
   ]
  },
  {
   "cell_type": "code",
   "execution_count": 7,
   "id": "a99c3eca",
   "metadata": {},
   "outputs": [
    {
     "data": {
      "text/plain": [
       "'https://api.sectors.app/v1/subsectors/'"
      ]
     },
     "execution_count": 7,
     "metadata": {},
     "output_type": "execute_result"
    }
   ],
   "source": [
    "url_subsectors"
   ]
  },
  {
   "cell_type": "markdown",
   "id": "65fd3c45",
   "metadata": {},
   "source": [
    "Kemudian kirim permintaannya :\n",
    "- Gunakan `requests.get()` adalah perintah untuk \"Merequest ambilkan data dari URL\".\n",
    "- Gunakan `HEADERS` agar server mengetahui siapa yang merequest data yang diinginkan."
   ]
  },
  {
   "cell_type": "code",
   "execution_count": 8,
   "id": "d35a72f3",
   "metadata": {},
   "outputs": [
    {
     "data": {
      "text/plain": [
       "<Response [200]>"
      ]
     },
     "execution_count": 8,
     "metadata": {},
     "output_type": "execute_result"
    }
   ],
   "source": [
    "resp = requests.get(url_subsectors, headers=HEADERS)\n",
    "resp"
   ]
  },
  {
   "cell_type": "markdown",
   "id": "26a126e3",
   "metadata": {},
   "source": [
    "> Penjelasan :\n",
    "- `<Response [200]>` berarti request untuk penarikan data berhasil.\n",
    "- `resp` adalah jawaban dari server. Untuk melihat isinya dalam format yang dapat dibaca oleh Python, maka gunakan `.json()`."
   ]
  },
  {
   "cell_type": "code",
   "execution_count": 9,
   "id": "c1f973c3",
   "metadata": {},
   "outputs": [
    {
     "data": {
      "text/plain": [
       "[{'sector': 'transportation-logistic', 'subsector': 'transportation'},\n",
       " {'sector': 'infrastructures', 'subsector': 'telecommunication'},\n",
       " {'sector': 'infrastructures',\n",
       "  'subsector': 'heavy-constructions-civil-engineering'},\n",
       " {'sector': 'properties-real-estate', 'subsector': 'properties-real-estate'},\n",
       " {'sector': 'consumer-non-cyclicals', 'subsector': 'food-beverage'},\n",
       " {'sector': 'infrastructures', 'subsector': 'utilities'},\n",
       " {'sector': 'healthcare', 'subsector': 'healthcare-equipment-providers'},\n",
       " {'sector': 'financials', 'subsector': 'financing-service'},\n",
       " {'sector': 'consumer-non-cyclicals', 'subsector': 'tobacco'},\n",
       " {'sector': 'healthcare', 'subsector': 'pharmaceuticals-health-care-research'},\n",
       " {'sector': 'consumer-non-cyclicals',\n",
       "  'subsector': 'nondurable-household-products'},\n",
       " {'sector': 'consumer-cyclicals', 'subsector': 'media-entertainment'},\n",
       " {'sector': 'industrials', 'subsector': 'industrial-goods'},\n",
       " {'sector': 'consumer-non-cyclicals', 'subsector': 'food-staples-retailing'},\n",
       " {'sector': 'industrials', 'subsector': 'industrial-services'},\n",
       " {'sector': 'financials', 'subsector': 'insurance'},\n",
       " {'sector': 'technology', 'subsector': 'software-it-services'},\n",
       " {'sector': 'infrastructures', 'subsector': 'transportation-infrastructure'},\n",
       " {'sector': 'energy', 'subsector': 'oil-gas-coal'},\n",
       " {'sector': 'consumer-cyclicals', 'subsector': 'leisure-goods'},\n",
       " {'sector': 'basic-materials', 'subsector': 'basic-materials'},\n",
       " {'sector': 'consumer-cyclicals', 'subsector': 'household-goods'},\n",
       " {'sector': 'consumer-cyclicals', 'subsector': 'consumer-services'},\n",
       " {'sector': 'financials', 'subsector': 'banks'},\n",
       " {'sector': 'transportation-logistic', 'subsector': 'logistics-deliveries'},\n",
       " {'sector': 'consumer-cyclicals', 'subsector': 'retailing'},\n",
       " {'sector': 'financials', 'subsector': 'investment-service'},\n",
       " {'sector': 'energy', 'subsector': 'alternative-energy'},\n",
       " {'sector': 'financials', 'subsector': 'holding-investment-companies'},\n",
       " {'sector': 'consumer-cyclicals', 'subsector': 'automobiles-components'},\n",
       " {'sector': 'technology', 'subsector': 'technology-hardware-equipment'},\n",
       " {'sector': 'industrials', 'subsector': 'multi-sector-holdings'},\n",
       " {'sector': 'consumer-cyclicals', 'subsector': 'apparel-luxury-goods'}]"
      ]
     },
     "execution_count": 9,
     "metadata": {},
     "output_type": "execute_result"
    }
   ],
   "source": [
    "resp.json()\n"
   ]
  },
  {
   "cell_type": "markdown",
   "id": "cc690dc9",
   "metadata": {},
   "source": [
    "Kemudian ubah menjadi `DataFrame` agar mudah untuk dianalisis:"
   ]
  },
  {
   "cell_type": "code",
   "execution_count": 10,
   "id": "e09588f7",
   "metadata": {},
   "outputs": [
    {
     "data": {
      "text/html": [
       "<div>\n",
       "<style scoped>\n",
       "    .dataframe tbody tr th:only-of-type {\n",
       "        vertical-align: middle;\n",
       "    }\n",
       "\n",
       "    .dataframe tbody tr th {\n",
       "        vertical-align: top;\n",
       "    }\n",
       "\n",
       "    .dataframe thead th {\n",
       "        text-align: right;\n",
       "    }\n",
       "</style>\n",
       "<table border=\"1\" class=\"dataframe\">\n",
       "  <thead>\n",
       "    <tr style=\"text-align: right;\">\n",
       "      <th></th>\n",
       "      <th>sector</th>\n",
       "      <th>subsector</th>\n",
       "    </tr>\n",
       "  </thead>\n",
       "  <tbody>\n",
       "    <tr>\n",
       "      <th>0</th>\n",
       "      <td>transportation-logistic</td>\n",
       "      <td>transportation</td>\n",
       "    </tr>\n",
       "    <tr>\n",
       "      <th>1</th>\n",
       "      <td>infrastructures</td>\n",
       "      <td>telecommunication</td>\n",
       "    </tr>\n",
       "    <tr>\n",
       "      <th>2</th>\n",
       "      <td>infrastructures</td>\n",
       "      <td>heavy-constructions-civil-engineering</td>\n",
       "    </tr>\n",
       "    <tr>\n",
       "      <th>3</th>\n",
       "      <td>properties-real-estate</td>\n",
       "      <td>properties-real-estate</td>\n",
       "    </tr>\n",
       "    <tr>\n",
       "      <th>4</th>\n",
       "      <td>consumer-non-cyclicals</td>\n",
       "      <td>food-beverage</td>\n",
       "    </tr>\n",
       "  </tbody>\n",
       "</table>\n",
       "</div>"
      ],
      "text/plain": [
       "                    sector                              subsector\n",
       "0  transportation-logistic                         transportation\n",
       "1          infrastructures                      telecommunication\n",
       "2          infrastructures  heavy-constructions-civil-engineering\n",
       "3   properties-real-estate                 properties-real-estate\n",
       "4   consumer-non-cyclicals                          food-beverage"
      ]
     },
     "execution_count": 10,
     "metadata": {},
     "output_type": "execute_result"
    }
   ],
   "source": [
    "import pandas as pd\n",
    "\n",
    "subsectors_df = pd.DataFrame(resp.json())\n",
    "subsectors_df.head()"
   ]
  },
  {
   "cell_type": "markdown",
   "id": "78c1fcf8",
   "metadata": {},
   "source": [
    "### Companies"
   ]
  },
  {
   "cell_type": "markdown",
   "id": "eb0a0845",
   "metadata": {},
   "source": [
    "Selanjutnya, mengambil daftar perusahaan berdasarkan subsektor. Kita akan melihat perusahaan di subsektor **Food Beverage**:"
   ]
  },
  {
   "cell_type": "code",
   "execution_count": 11,
   "id": "d4c2171b",
   "metadata": {},
   "outputs": [],
   "source": [
    "## url daftar perusahaan\n",
    "url_companies = f\"{BASE_URL}/companies/\""
   ]
  },
  {
   "cell_type": "code",
   "execution_count": 12,
   "id": "286c2693",
   "metadata": {},
   "outputs": [
    {
     "data": {
      "text/plain": [
       "'https://api.sectors.app/v1/companies/'"
      ]
     },
     "execution_count": 12,
     "metadata": {},
     "output_type": "execute_result"
    }
   ],
   "source": [
    "url_companies"
   ]
  },
  {
   "cell_type": "code",
   "execution_count": 13,
   "id": "39d2772e",
   "metadata": {},
   "outputs": [],
   "source": [
    "selected_subsector = \"food-beverage\""
   ]
  },
  {
   "cell_type": "markdown",
   "id": "5a8f9f4a",
   "metadata": {},
   "source": [
    "Karena kita memilih daftar perusahaan yang ada di `food-beverage` maka perlu ditambahkan \"catatan khusus\" pada request kita. Maka, gunakan '`params`' (parameter). "
   ]
  },
  {
   "cell_type": "code",
   "execution_count": 14,
   "id": "2db989ee",
   "metadata": {},
   "outputs": [],
   "source": [
    "params = {\"sub_sector\" : selected_subsector}"
   ]
  },
  {
   "cell_type": "code",
   "execution_count": 15,
   "id": "74137171",
   "metadata": {},
   "outputs": [],
   "source": [
    "# kirim request\n",
    "resp = requests.get(url_companies, headers=HEADERS, params=params)"
   ]
  },
  {
   "cell_type": "code",
   "execution_count": 16,
   "id": "3b7cb5aa",
   "metadata": {},
   "outputs": [
    {
     "data": {
      "text/plain": [
       "<Response [200]>"
      ]
     },
     "execution_count": 16,
     "metadata": {},
     "output_type": "execute_result"
    }
   ],
   "source": [
    "resp"
   ]
  },
  {
   "cell_type": "markdown",
   "id": "d85f0791",
   "metadata": {},
   "source": [
    "Ubah kedalam `dataframe`"
   ]
  },
  {
   "cell_type": "code",
   "execution_count": 17,
   "id": "e6be3890",
   "metadata": {},
   "outputs": [
    {
     "data": {
      "text/html": [
       "<div>\n",
       "<style scoped>\n",
       "    .dataframe tbody tr th:only-of-type {\n",
       "        vertical-align: middle;\n",
       "    }\n",
       "\n",
       "    .dataframe tbody tr th {\n",
       "        vertical-align: top;\n",
       "    }\n",
       "\n",
       "    .dataframe thead th {\n",
       "        text-align: right;\n",
       "    }\n",
       "</style>\n",
       "<table border=\"1\" class=\"dataframe\">\n",
       "  <thead>\n",
       "    <tr style=\"text-align: right;\">\n",
       "      <th></th>\n",
       "      <th>symbol</th>\n",
       "      <th>company_name</th>\n",
       "      <th>sorted_by</th>\n",
       "    </tr>\n",
       "  </thead>\n",
       "  <tbody>\n",
       "    <tr>\n",
       "      <th>0</th>\n",
       "      <td>AALI.JK</td>\n",
       "      <td>Astra Agro Lestari Tbk</td>\n",
       "      <td>AALI.JK</td>\n",
       "    </tr>\n",
       "    <tr>\n",
       "      <th>1</th>\n",
       "      <td>ADES.JK</td>\n",
       "      <td>Akasha Wira International Tbk  Tbk</td>\n",
       "      <td>ADES.JK</td>\n",
       "    </tr>\n",
       "    <tr>\n",
       "      <th>2</th>\n",
       "      <td>AGAR.JK</td>\n",
       "      <td>PT Asia Sejahtera Mina Tbk</td>\n",
       "      <td>AGAR.JK</td>\n",
       "    </tr>\n",
       "    <tr>\n",
       "      <th>3</th>\n",
       "      <td>AISA.JK</td>\n",
       "      <td>PT FKS Food Sejahtera Tbk</td>\n",
       "      <td>AISA.JK</td>\n",
       "    </tr>\n",
       "    <tr>\n",
       "      <th>4</th>\n",
       "      <td>ALTO.JK</td>\n",
       "      <td>Tri Banyan Tirta Tbk</td>\n",
       "      <td>ALTO.JK</td>\n",
       "    </tr>\n",
       "  </tbody>\n",
       "</table>\n",
       "</div>"
      ],
      "text/plain": [
       "    symbol                        company_name sorted_by\n",
       "0  AALI.JK              Astra Agro Lestari Tbk   AALI.JK\n",
       "1  ADES.JK  Akasha Wira International Tbk  Tbk   ADES.JK\n",
       "2  AGAR.JK          PT Asia Sejahtera Mina Tbk   AGAR.JK\n",
       "3  AISA.JK           PT FKS Food Sejahtera Tbk   AISA.JK\n",
       "4  ALTO.JK                Tri Banyan Tirta Tbk   ALTO.JK"
      ]
     },
     "execution_count": 17,
     "metadata": {},
     "output_type": "execute_result"
    }
   ],
   "source": [
    "companies_df = pd.DataFrame(resp.json())\n",
    "companies_df.head()"
   ]
  },
  {
   "cell_type": "markdown",
   "id": "27464adf",
   "metadata": {},
   "source": [
    "# Pemanfaatan AI"
   ]
  },
  {
   "cell_type": "markdown",
   "id": "049daf05",
   "metadata": {},
   "source": [
    "Pada tahap di atas kita telah melakukan proses pengambilan data menggunakan API. Kemudian langkah selanjutnya adalah \n",
    "- Gunakan  **AI (Large Language Model)** untuk membaca dan menginterpretasi data keuangan.\n",
    "- Gunakan **LangChain**. Langchain adalah framework Python yang memudahkan kita dalam:\n",
    "    * Menyusun prompt\n",
    "    * Menghubungkan LLM dengan data kita\n",
    "    * Menyusun pipeline otomatis dari input hingga output\n",
    "- Gunakan **Groq**. Groq adalah layanan yang menyediakan akses ke model-model LLM super cepat seperti LLaMA 3 dan lainnya. Kita akan menggunakan Groq sebagai penyedia model AI-nya."
   ]
  },
  {
   "cell_type": "markdown",
   "id": "ecff4f42",
   "metadata": {},
   "source": [
    "## Setting Up LangChain and LLMs\n",
    "\n",
    "Sebelum memulainya, perlu untuk mengimpor dua komponen penting : \n",
    "\n",
    "* `langchain_groq`: digunakan untuk menghubungkan LangChain dengan model LLM dari Groq.\n",
    "* `PromptTemplate`: digunakan untuk membuat format pertanyaan atau instruksi yang ingin kita berikan ke AI."
   ]
  },
  {
   "cell_type": "code",
   "execution_count": 18,
   "id": "b5ec8987",
   "metadata": {},
   "outputs": [],
   "source": [
    "from langchain_groq import ChatGroq\n",
    "from langchain.prompts import PromptTemplate"
   ]
  },
  {
   "cell_type": "markdown",
   "id": "9087a284",
   "metadata": {},
   "source": [
    "## Inisialisasi Model LLM\n",
    "\n",
    "Sebelum menggunakan LLM, kita perlu menginisiasi model yang akan digunakan.\n",
    "\n",
    "Tentukan 3 parameter utama:\n",
    "* `groq_api_key`: API Key dari Groq yang disimpan kedalam file `.env`. Digunakan untuk otorisasi.\n",
    "* `model_name`: nama model yang ingin digunakan. Kita menggunakan model `\"llama3-70b-8192\"`, yaitu model besar dan canggih dari Meta yang disediakan Groq.\n",
    "* `temperature`: mengatur tingkat kreativitas jawaban.\n",
    "\n",
    "  * Semakin **rendah** (misalnya 0.0) → jawaban lebih konsisten dan deterministik.\n",
    "  * Semakin **tinggi** (misalnya 1.0) → jawaban lebih kreatif dan bervariasi.\n",
    "  * Kita menggunakan `0.8` agar hasilnya tetap kreatif namun tidak terlalu liar.\n"
   ]
  },
  {
   "cell_type": "code",
   "execution_count": 19,
   "id": "edbbcec3",
   "metadata": {},
   "outputs": [],
   "source": [
    "GROQ_API_KEY = os.getenv(\"GROQ_API_KEY\")"
   ]
  },
  {
   "cell_type": "code",
   "execution_count": 20,
   "id": "49f5da0b",
   "metadata": {},
   "outputs": [],
   "source": [
    "llm = ChatGroq(\n",
    "    groq_api_key = GROQ_API_KEY,\n",
    "    temperature=0.8,\n",
    "    model_name=\"llama-3.3-70b-versatile\"\n",
    ")"
   ]
  },
  {
   "cell_type": "code",
   "execution_count": 21,
   "id": "eb8cad18",
   "metadata": {},
   "outputs": [
    {
     "data": {
      "text/plain": [
       "ChatGroq(client=<groq.resources.chat.completions.Completions object at 0x0000021BC7DD0A70>, async_client=<groq.resources.chat.completions.AsyncCompletions object at 0x0000021BC80B1910>, model_name='llama-3.3-70b-versatile', temperature=0.8, model_kwargs={}, groq_api_key=SecretStr('**********'))"
      ]
     },
     "execution_count": 21,
     "metadata": {},
     "output_type": "execute_result"
    }
   ],
   "source": [
    "llm"
   ]
  },
  {
   "cell_type": "markdown",
   "id": "7704e7cf",
   "metadata": {},
   "source": [
    "## Creating an Automated Financial Summary"
   ]
  },
  {
   "cell_type": "markdown",
   "id": "68478cb3",
   "metadata": {},
   "source": [
    "### Step 1: Mengambil Data Kuartalan"
   ]
  },
  {
   "cell_type": "markdown",
   "id": "eac9ce30",
   "metadata": {},
   "source": [
    "Kita akan mengambil data laporan keuangan dari 6 kuartal terakhir (dari `2024-03-31` sampai dengan `2025-06-30`). Data ini akan menjadi **bahan bacaan** untuk AI yang telah kita buat. Ambil data laporan keuangan 6 kuartal terakhir untuk simbol yang sama."
   ]
  },
  {
   "cell_type": "code",
   "execution_count": 22,
   "id": "5330705c",
   "metadata": {},
   "outputs": [],
   "source": [
    "symbol = \"SGRO.JK\"\n",
    "url_fin = f\"{BASE_URL}/financials/quarterly/{symbol}/\"\n",
    "params = {\"n_quarters\" : \"6\",\n",
    "          \"report_date\": \"2024-03-31\"}"
   ]
  },
  {
   "cell_type": "code",
   "execution_count": 23,
   "id": "7368a047",
   "metadata": {},
   "outputs": [],
   "source": [
    "response = requests.get(url_fin, headers=HEADERS, params=params)\n",
    "financials = pd.DataFrame(response.json())"
   ]
  },
  {
   "cell_type": "code",
   "execution_count": 24,
   "id": "2955a71d",
   "metadata": {},
   "outputs": [
    {
     "data": {
      "text/html": [
       "<div>\n",
       "<style scoped>\n",
       "    .dataframe tbody tr th:only-of-type {\n",
       "        vertical-align: middle;\n",
       "    }\n",
       "\n",
       "    .dataframe tbody tr th {\n",
       "        vertical-align: top;\n",
       "    }\n",
       "\n",
       "    .dataframe thead th {\n",
       "        text-align: right;\n",
       "    }\n",
       "</style>\n",
       "<table border=\"1\" class=\"dataframe\">\n",
       "  <thead>\n",
       "    <tr style=\"text-align: right;\">\n",
       "      <th></th>\n",
       "      <th>symbol</th>\n",
       "      <th>financials_sector_metrics</th>\n",
       "      <th>date</th>\n",
       "      <th>premium_income</th>\n",
       "      <th>premium_expense</th>\n",
       "      <th>net_premium_income</th>\n",
       "      <th>non_interest_income</th>\n",
       "      <th>revenue</th>\n",
       "      <th>operating_expense</th>\n",
       "      <th>provision</th>\n",
       "      <th>...</th>\n",
       "      <th>cash_and_short_term_investments</th>\n",
       "      <th>non_loan_assets</th>\n",
       "      <th>total_current_asset</th>\n",
       "      <th>total_non_current_liabilities</th>\n",
       "      <th>financing_cash_flow</th>\n",
       "      <th>operating_cash_flow</th>\n",
       "      <th>investing_cash_flow</th>\n",
       "      <th>net_cash_flow</th>\n",
       "      <th>capital_expenditure</th>\n",
       "      <th>free_cash_flow</th>\n",
       "    </tr>\n",
       "  </thead>\n",
       "  <tbody>\n",
       "    <tr>\n",
       "      <th>0</th>\n",
       "      <td>SGRO.JK</td>\n",
       "      <td>None</td>\n",
       "      <td>2025-06-30</td>\n",
       "      <td>None</td>\n",
       "      <td>None</td>\n",
       "      <td>None</td>\n",
       "      <td>7725000000</td>\n",
       "      <td>-1677319706148</td>\n",
       "      <td>-130326780408</td>\n",
       "      <td>None</td>\n",
       "      <td>...</td>\n",
       "      <td>702302</td>\n",
       "      <td>None</td>\n",
       "      <td>1925530</td>\n",
       "      <td>2422014</td>\n",
       "      <td>471396158958</td>\n",
       "      <td>-322597085766</td>\n",
       "      <td>99305788504</td>\n",
       "      <td>248104861696</td>\n",
       "      <td>-135277702408</td>\n",
       "      <td>-187319383358</td>\n",
       "    </tr>\n",
       "    <tr>\n",
       "      <th>1</th>\n",
       "      <td>SGRO.JK</td>\n",
       "      <td>None</td>\n",
       "      <td>2025-03-31</td>\n",
       "      <td>None</td>\n",
       "      <td>None</td>\n",
       "      <td>None</td>\n",
       "      <td>9267000000</td>\n",
       "      <td>1677323000000</td>\n",
       "      <td>130327000000</td>\n",
       "      <td>None</td>\n",
       "      <td>...</td>\n",
       "      <td>592564000000</td>\n",
       "      <td>None</td>\n",
       "      <td>2019167000000</td>\n",
       "      <td>2484785000000</td>\n",
       "      <td>-471397000000</td>\n",
       "      <td>322598000000</td>\n",
       "      <td>-99306000000</td>\n",
       "      <td>-248105000000</td>\n",
       "      <td>135278000000</td>\n",
       "      <td>187320000000</td>\n",
       "    </tr>\n",
       "    <tr>\n",
       "      <th>2</th>\n",
       "      <td>SGRO.JK</td>\n",
       "      <td>None</td>\n",
       "      <td>2024-12-31</td>\n",
       "      <td>None</td>\n",
       "      <td>None</td>\n",
       "      <td>None</td>\n",
       "      <td>24584000000</td>\n",
       "      <td>2208740000000</td>\n",
       "      <td>111772000000</td>\n",
       "      <td>None</td>\n",
       "      <td>...</td>\n",
       "      <td>840602000000</td>\n",
       "      <td>None</td>\n",
       "      <td>2224658000000</td>\n",
       "      <td>2731943000000</td>\n",
       "      <td>-207432000000</td>\n",
       "      <td>782001000000</td>\n",
       "      <td>-156709000000</td>\n",
       "      <td>417860000000</td>\n",
       "      <td>297135000000</td>\n",
       "      <td>484866000000</td>\n",
       "    </tr>\n",
       "    <tr>\n",
       "      <th>3</th>\n",
       "      <td>SGRO.JK</td>\n",
       "      <td>None</td>\n",
       "      <td>2024-09-30</td>\n",
       "      <td>None</td>\n",
       "      <td>None</td>\n",
       "      <td>None</td>\n",
       "      <td>4509000000</td>\n",
       "      <td>1216719000000</td>\n",
       "      <td>92499000000</td>\n",
       "      <td>None</td>\n",
       "      <td>...</td>\n",
       "      <td>422621000000</td>\n",
       "      <td>None</td>\n",
       "      <td>1756989000000</td>\n",
       "      <td>2745747000000</td>\n",
       "      <td>-14699000000</td>\n",
       "      <td>154276000000</td>\n",
       "      <td>-152128000000</td>\n",
       "      <td>-12551000000</td>\n",
       "      <td>156870000000</td>\n",
       "      <td>-2594000000</td>\n",
       "    </tr>\n",
       "    <tr>\n",
       "      <th>4</th>\n",
       "      <td>SGRO.JK</td>\n",
       "      <td>None</td>\n",
       "      <td>2024-06-30</td>\n",
       "      <td>None</td>\n",
       "      <td>None</td>\n",
       "      <td>None</td>\n",
       "      <td>4870000000</td>\n",
       "      <td>1134862000000</td>\n",
       "      <td>91733000000</td>\n",
       "      <td>None</td>\n",
       "      <td>...</td>\n",
       "      <td>435209000000</td>\n",
       "      <td>None</td>\n",
       "      <td>1661490000000</td>\n",
       "      <td>2624951000000</td>\n",
       "      <td>102773000000</td>\n",
       "      <td>-15293000000</td>\n",
       "      <td>-107114000000</td>\n",
       "      <td>-19634000000</td>\n",
       "      <td>123169000000</td>\n",
       "      <td>-138462000000</td>\n",
       "    </tr>\n",
       "    <tr>\n",
       "      <th>5</th>\n",
       "      <td>SGRO.JK</td>\n",
       "      <td>None</td>\n",
       "      <td>2024-03-31</td>\n",
       "      <td>None</td>\n",
       "      <td>None</td>\n",
       "      <td>None</td>\n",
       "      <td>6286000000</td>\n",
       "      <td>1133907000000</td>\n",
       "      <td>115977000000</td>\n",
       "      <td>None</td>\n",
       "      <td>...</td>\n",
       "      <td>454837000000</td>\n",
       "      <td>None</td>\n",
       "      <td>1671471000000</td>\n",
       "      <td>2979191000000</td>\n",
       "      <td>-317654000000</td>\n",
       "      <td>334788000000</td>\n",
       "      <td>-98274000000</td>\n",
       "      <td>-81140000000</td>\n",
       "      <td>150570000000</td>\n",
       "      <td>184218000000</td>\n",
       "    </tr>\n",
       "  </tbody>\n",
       "</table>\n",
       "<p>6 rows × 40 columns</p>\n",
       "</div>"
      ],
      "text/plain": [
       "    symbol financials_sector_metrics        date premium_income  \\\n",
       "0  SGRO.JK                      None  2025-06-30           None   \n",
       "1  SGRO.JK                      None  2025-03-31           None   \n",
       "2  SGRO.JK                      None  2024-12-31           None   \n",
       "3  SGRO.JK                      None  2024-09-30           None   \n",
       "4  SGRO.JK                      None  2024-06-30           None   \n",
       "5  SGRO.JK                      None  2024-03-31           None   \n",
       "\n",
       "  premium_expense net_premium_income  non_interest_income        revenue  \\\n",
       "0            None               None           7725000000 -1677319706148   \n",
       "1            None               None           9267000000  1677323000000   \n",
       "2            None               None          24584000000  2208740000000   \n",
       "3            None               None           4509000000  1216719000000   \n",
       "4            None               None           4870000000  1134862000000   \n",
       "5            None               None           6286000000  1133907000000   \n",
       "\n",
       "   operating_expense provision  ...  cash_and_short_term_investments  \\\n",
       "0      -130326780408      None  ...                           702302   \n",
       "1       130327000000      None  ...                     592564000000   \n",
       "2       111772000000      None  ...                     840602000000   \n",
       "3        92499000000      None  ...                     422621000000   \n",
       "4        91733000000      None  ...                     435209000000   \n",
       "5       115977000000      None  ...                     454837000000   \n",
       "\n",
       "   non_loan_assets  total_current_asset  total_non_current_liabilities  \\\n",
       "0             None              1925530                        2422014   \n",
       "1             None        2019167000000                  2484785000000   \n",
       "2             None        2224658000000                  2731943000000   \n",
       "3             None        1756989000000                  2745747000000   \n",
       "4             None        1661490000000                  2624951000000   \n",
       "5             None        1671471000000                  2979191000000   \n",
       "\n",
       "   financing_cash_flow  operating_cash_flow  investing_cash_flow  \\\n",
       "0         471396158958        -322597085766          99305788504   \n",
       "1        -471397000000         322598000000         -99306000000   \n",
       "2        -207432000000         782001000000        -156709000000   \n",
       "3         -14699000000         154276000000        -152128000000   \n",
       "4         102773000000         -15293000000        -107114000000   \n",
       "5        -317654000000         334788000000         -98274000000   \n",
       "\n",
       "   net_cash_flow  capital_expenditure  free_cash_flow  \n",
       "0   248104861696        -135277702408   -187319383358  \n",
       "1  -248105000000         135278000000    187320000000  \n",
       "2   417860000000         297135000000    484866000000  \n",
       "3   -12551000000         156870000000     -2594000000  \n",
       "4   -19634000000         123169000000   -138462000000  \n",
       "5   -81140000000         150570000000    184218000000  \n",
       "\n",
       "[6 rows x 40 columns]"
      ]
     },
     "execution_count": 24,
     "metadata": {},
     "output_type": "execute_result"
    }
   ],
   "source": [
    "financials"
   ]
  },
  {
   "cell_type": "markdown",
   "id": "3d2cd47b",
   "metadata": {},
   "source": [
    "### Step 2: Prompt Template untuk Ringkasan Keuangan"
   ]
  },
  {
   "cell_type": "markdown",
   "id": "07d81a41",
   "metadata": {},
   "source": [
    "Buat prompt template yang lebih spesifik untuk memandu AI memberikan ringkasan dari laporan keuangan. Kemudian berikan AI sebuah peran (sebagai analis saham) dan instruksi yang jelas (fokus pada harga saham terakhir saat penutupan, laba berjalan, nilai ROE)."
   ]
  },
  {
   "cell_type": "code",
   "execution_count": 25,
   "id": "7d661991",
   "metadata": {},
   "outputs": [],
   "source": [
    "prompt_summary_template = PromptTemplate.from_template(\n",
    "\n",
    "    \"\"\"\n",
    "    Anda adalah seorang analis keuangan yang sangat pintar.\n",
    "    Berdasarkan data keuangan kuartalan berikut (dalam jutaan Rupiah):\n",
    "\n",
    "    {data}\n",
    "\n",
    "    Tuliskan ringkasan eksekutif berdasarkan poin dibawah ini.\n",
    "    Fokus pada:\n",
    "\n",
    "    1. Analisis Tren Waktu\n",
    "    - Pertumbuhan : Revenue, Net Premium Income, Operating Expense, Net Cash Flow.\n",
    "    - Profitabilitas : Laba kotor, laba operasi, laba bersih (kalau tersedia).\n",
    "\n",
    "    2. Rasio Keuangan Utama\n",
    "        Profitability :\n",
    "        - Net Margin = (Revenue - Operating Expense - Provision) / Revenue.\n",
    "        - ROA = Net Income / Total Assets.\n",
    "        - ROE = Net Income / Equity (kalau ada equity).\n",
    "\n",
    "        Liquidity :\n",
    "        - Current Ratio = Total Current Asset / Total Non-Current Liabilities.\n",
    "        - Cash Ratio = Cash and Short-Term Investments / Total Current Asset.\n",
    "\n",
    "        Efficiency :\n",
    "        - Expense Ratio = Operating Expense / Revenue.\n",
    "        - Combined Ratio (khusus asuransi) = (Premium Expense + Operating Expense) / Premium Income.\n",
    "\n",
    "    3. Arus Kas\n",
    "    - Analisis Operating vs Investing vs Financing Cash Flow : apakah perusahaan menghasilkan kas dari operasi atau bergantung dari utang/pendanaan.\n",
    "    - Free Cash Flow = Operating Cash Flow - Capital Expenditure.\n",
    "    - Net Cash Flow Trend : apakah cadangan kas tumbuh atau berkurang.\n",
    "\n",
    "    4. Health Check\n",
    "    - Bandingkan antar periode (QoQ, YoY).\n",
    "    - Cek apakah perusahaan:\n",
    "        - Sustainable : pendapatan tumbuh, beban terkendali.\n",
    "        - Likuid : punya kas cukup untuk jangka pendek.\n",
    "        - Efisien : Opex tidak lebih cepat tumbuh dari pendapatan.\n",
    "        - Sehat dari sisi cashflow : Operating CF positif secara konsisten.\n",
    "\n",
    "    5. Forecasting\n",
    "    - Forecast Revenue & Cash Flow : gunakan regresi atau ARIMA.\n",
    "    - Scenario analysis : misalnya dampak kenaikan Opex 10% ke net cash flow.\n",
    "    \n",
    "    \"\"\"\n",
    ")"
   ]
  },
  {
   "cell_type": "code",
   "execution_count": 26,
   "id": "16ebe2f1",
   "metadata": {},
   "outputs": [
    {
     "name": "stdout",
     "output_type": "stream",
     "text": [
      "Berikut adalah ringkasan eksekutif berdasarkan data keuangan kuartalan yang disediakan:\n",
      "\n",
      "**Analisis Tren Waktu**\n",
      "\n",
      "* Pertumbuhan: \n",
      " + Revenue mengalami fluktuasi, dengan penurunan signifikan di Q2 2025.\n",
      " + Net Premium Income tidak tersedia karena nilai premium_income dan premium_expense tidak ada.\n",
      " + Operating Expense meningkat secara signifikan di Q2 2025.\n",
      " + Net Cash Flow mengalami fluktuasi, dengan penurunan signifikan di Q2 2025.\n",
      "* Profitabilitas: \n",
      " + Laba kotor, laba operasi, dan laba bersih tidak dapat dihitung karena kurangnya data.\n",
      "\n",
      "**Rasio Keuangan Utama**\n",
      "\n",
      "* Profitability: \n",
      " + Net Margin tidak dapat dihitung karena kurangnya data.\n",
      " + ROA dan ROE tidak dapat dihitung karena kurangnya data.\n",
      "* Liquidity: \n",
      " + Current Ratio meningkat secara signifikan di Q2 2025 karena penurunan Total Non-Current Liabilities.\n",
      " + Cash Ratio meningkat secara signifikan di Q2 2025 karena penurunan Total Current Asset.\n",
      "* Efficiency: \n",
      " + Expense Ratio meningkat secara signifikan di Q2 2025.\n",
      " + Combined Ratio tidak dapat dihitung karena kurangnya data.\n",
      "\n",
      "**Arus Kas**\n",
      "\n",
      "* Analisis Operating vs Investing vs Financing Cash Flow: \n",
      " + Perusahaan menghasilkan kas dari operasi, tetapi juga bergantung pada utang/pendanaan.\n",
      " + Free Cash Flow mengalami fluktuasi, dengan penurunan signifikan di Q2 2025.\n",
      " + Net Cash Flow Trend: cadangan kas berkurang di Q2 2025.\n",
      "\n",
      "**Health Check**\n",
      "\n",
      "* Bandingkan antar periode (QoQ, YoY): \n",
      " + Pendapatan tidak tumbuh secara konsisten.\n",
      " + Beban terkendali, tetapi meningkat secara signifikan di Q2 2025.\n",
      " + Perusahaan memiliki kas cukup untuk jangka pendek.\n",
      " + Opex tidak lebih cepat tumbuh dari pendapatan.\n",
      " + Operating CF positif secara konsisten, tetapi mengalami fluktuasi.\n",
      "\n",
      "**Forecasting**\n",
      "\n",
      "* Forecast Revenue & Cash Flow: \n",
      " + Dapat menggunakan regresi atau ARIMA untuk memprediksi revenue dan cash flow.\n",
      " + Scenario analysis: misalnya dampak kenaikan Opex 10% ke net cash flow.\n",
      "\n",
      "Dalam keseluruhan, perusahaan mengalami fluktuasi dalam pendapatan, beban, dan arus kas. Perusahaan perlu meningkatkan pendapatan dan mengendalikan beban untuk meningkatkan profitabilitas. Perusahaan juga perlu meningkatkan efisiensi dan mengurangi ketergantungan pada utang/pendanaan.\n"
     ]
    }
   ],
   "source": [
    "## Eksekusi dan hasilkan ringkasan dari LLM:\n",
    "\n",
    "prompt_summary = prompt_summary_template.format(data = financials)\n",
    "print(llm.invoke(prompt_summary).content)"
   ]
  },
  {
   "cell_type": "markdown",
   "id": "8c38359c",
   "metadata": {},
   "source": [
    "### Step 3: Visualizing Trends"
   ]
  },
  {
   "cell_type": "code",
   "execution_count": 27,
   "id": "d5eef337",
   "metadata": {},
   "outputs": [
    {
     "data": {
      "text/html": [
       "<div>\n",
       "<style scoped>\n",
       "    .dataframe tbody tr th:only-of-type {\n",
       "        vertical-align: middle;\n",
       "    }\n",
       "\n",
       "    .dataframe tbody tr th {\n",
       "        vertical-align: top;\n",
       "    }\n",
       "\n",
       "    .dataframe thead th {\n",
       "        text-align: right;\n",
       "    }\n",
       "</style>\n",
       "<table border=\"1\" class=\"dataframe\">\n",
       "  <thead>\n",
       "    <tr style=\"text-align: right;\">\n",
       "      <th></th>\n",
       "      <th>date</th>\n",
       "      <th>revenue</th>\n",
       "      <th>operating_expense</th>\n",
       "      <th>net_cash_flow</th>\n",
       "    </tr>\n",
       "  </thead>\n",
       "  <tbody>\n",
       "    <tr>\n",
       "      <th>0</th>\n",
       "      <td>2025-06-30</td>\n",
       "      <td>-1677319706148</td>\n",
       "      <td>-130326780408</td>\n",
       "      <td>248104861696</td>\n",
       "    </tr>\n",
       "    <tr>\n",
       "      <th>1</th>\n",
       "      <td>2025-03-31</td>\n",
       "      <td>1677323000000</td>\n",
       "      <td>130327000000</td>\n",
       "      <td>-248105000000</td>\n",
       "    </tr>\n",
       "    <tr>\n",
       "      <th>2</th>\n",
       "      <td>2024-12-31</td>\n",
       "      <td>2208740000000</td>\n",
       "      <td>111772000000</td>\n",
       "      <td>417860000000</td>\n",
       "    </tr>\n",
       "    <tr>\n",
       "      <th>3</th>\n",
       "      <td>2024-09-30</td>\n",
       "      <td>1216719000000</td>\n",
       "      <td>92499000000</td>\n",
       "      <td>-12551000000</td>\n",
       "    </tr>\n",
       "    <tr>\n",
       "      <th>4</th>\n",
       "      <td>2024-06-30</td>\n",
       "      <td>1134862000000</td>\n",
       "      <td>91733000000</td>\n",
       "      <td>-19634000000</td>\n",
       "    </tr>\n",
       "  </tbody>\n",
       "</table>\n",
       "</div>"
      ],
      "text/plain": [
       "         date        revenue  operating_expense  net_cash_flow\n",
       "0  2025-06-30 -1677319706148      -130326780408   248104861696\n",
       "1  2025-03-31  1677323000000       130327000000  -248105000000\n",
       "2  2024-12-31  2208740000000       111772000000   417860000000\n",
       "3  2024-09-30  1216719000000        92499000000   -12551000000\n",
       "4  2024-06-30  1134862000000        91733000000   -19634000000"
      ]
     },
     "execution_count": 27,
     "metadata": {},
     "output_type": "execute_result"
    }
   ],
   "source": [
    "# ambil data yang relevan untuk di buat chart\n",
    "sample_data_viz = financials[['date','revenue', 'operating_expense', 'net_cash_flow']]\n",
    "sample_data_viz.head()"
   ]
  },
  {
   "cell_type": "markdown",
   "id": "42825dce",
   "metadata": {},
   "source": [
    "Prompt Template untuk Visualisasi:"
   ]
  },
  {
   "cell_type": "code",
   "execution_count": 28,
   "id": "0c7699fb",
   "metadata": {},
   "outputs": [],
   "source": [
    "template_viz = PromptTemplate.from_template(\n",
    "    \"\"\"\n",
    "    \n",
    "    Anda adalah seorang programmer Python yang ahli dalam visualisasi data.\n",
    "\n",
    "    Berikut adalah data revenue, operating_expense, dan net_cash_flow perusahaan:\n",
    "\n",
    "    {data}\n",
    "\n",
    "    Buat sebuah skrip Python menggunakan matplotlib untuk menghasilkan line plot. \n",
    "    Instruksi:\n",
    "    - Sumbu X adalah 'date' dan di urutkan dari periode awal sampai periode terakhir\n",
    "    - Sumbu Y adalah 'revenue', 'operating_expense', dan 'net_cash_flow'\n",
    "    - Dibuat dalam 1 chart dan berikan warna yang berbeda revenue : biru, operating_expense : merah, net_cash_flow : hijau\n",
    "    - Berikan poin di sumbu y nya \n",
    "    - Berikan nilai y dalam miliar rupiah pada masing-masing line\n",
    "    - Buat semua dalam bentuk line bukan garis putus-putus\n",
    "    - Untuk sumbu x di rotasi 45 derajat\n",
    "    - PENTING: Simpan plot ke dalam variabel bernama `fig`. Contoh: `fig, ax = plt.subplots()`\n",
    "     \n",
    "    Tulis HANYA kode Python yang bisa langsung dieksekusi. Jangan sertakan penjelasan apapun.\n",
    "\n",
    "    \"\"\"\n",
    ")"
   ]
  },
  {
   "cell_type": "markdown",
   "id": "258ed2e9",
   "metadata": {},
   "source": [
    "Kemudian request LLM untuk menghasilkan kodenya:"
   ]
  },
  {
   "cell_type": "code",
   "execution_count": 29,
   "id": "8f04c9fc",
   "metadata": {},
   "outputs": [
    {
     "name": "stdout",
     "output_type": "stream",
     "text": [
      "import matplotlib.pyplot as plt\n",
      "import pandas as pd\n",
      "\n",
      "# Data\n",
      "data = {\n",
      "    'date': ['2025-06-30', '2025-03-31', '2024-12-31', '2024-09-30', '2024-06-30', '2024-03-31'],\n",
      "    'revenue': [-1677319706148, 1677323000000, 2208740000000, 1216719000000, 1134862000000, 1133907000000],\n",
      "    'operating_expense': [-130326780408, 130327000000, 111772000000, 92499000000, 91733000000, 115977000000],\n",
      "    'net_cash_flow': [248104861696, -248105000000, 417860000000, -12551000000, -19634000000, -81140000000]\n",
      "}\n",
      "\n",
      "# Buat DataFrame\n",
      "df = pd.DataFrame(data)\n",
      "\n",
      "# Urutkan data berdasarkan tanggal\n",
      "df['date'] = pd.to_datetime(df['date'])\n",
      "df = df.sort_values(by='date')\n",
      "\n",
      "# Buat plot\n",
      "fig, ax = plt.subplots(figsize=(10,6))\n",
      "ax.plot(df['date'], df['revenue']/1e9, label='revenue', color='blue', marker='o')\n",
      "ax.plot(df['date'], df['operating_expense']/1e9, label='operating_expense', color='red', marker='o')\n",
      "ax.plot(df['date'], df['net_cash_flow']/1e9, label='net_cash_flow', color='green', marker='o')\n",
      "\n",
      "# Atur sumbu x\n",
      "plt.xticks(rotation=45)\n",
      "\n",
      "# Tambahkan legend\n",
      "plt.legend()\n",
      "\n",
      "# Tambahkan label sumbu x dan y\n",
      "plt.xlabel('Tanggal')\n",
      "plt.ylabel('Jutaan Rupiah')\n",
      "\n",
      "# Tampilkan plot\n",
      "plt.show()\n"
     ]
    }
   ],
   "source": [
    "llm_viz = llm.invoke(template_viz.format(data=sample_data_viz)).content\n",
    "\n",
    "# bersihkan stip ```python\n",
    "clean_code = llm_viz.strip().strip(\"```python\").strip() \n",
    "print(clean_code)"
   ]
  },
  {
   "cell_type": "code",
   "execution_count": 30,
   "id": "59971c61",
   "metadata": {},
   "outputs": [
    {
     "data": {
      "image/png": "[encoded data removed]",
      "text/plain": [
       "<Figure size 1000x600 with 1 Axes>"
      ]
     },
     "metadata": {},
     "output_type": "display_data"
    }
   ],
   "source": [
    "# Untuk menjalankan suatu kode yang berbentuk string gunakan fungsi `exec()`\n",
    "exec(clean_code)"
   ]
  },
  {
   "cell_type": "markdown",
   "id": "93ff7b66",
   "metadata": {},
   "source": [
    "### Step 4: Interpreting Key Financial Trends"
   ]
  },
  {
   "cell_type": "markdown",
   "id": "bda627e3",
   "metadata": {},
   "source": [
    "Kita minta LLM untuk menganalisis tren dari data revenue, operating_expense, dan net_cash flow."
   ]
  },
  {
   "cell_type": "code",
   "execution_count": 31,
   "id": "a24315d4",
   "metadata": {},
   "outputs": [],
   "source": [
    "template_trend = PromptTemplate.from_template(\n",
    "    \"\"\"\n",
    "    Anda adalah seorang analis keuangan yang hebat.\n",
    "    Berdasarkan data kuartalan berikut:\n",
    "    {data}\n",
    "    Analisis tren utama yang muncul dari data tersebut. Fokus pada pergerakan revenue, operating_expense, dan net_cash_flow.\n",
    "    Sajikan analisis dalam 3 poin. Tuliskan dalam bahasa yang singkat, padat, jelas, dan mudah untuk dapat dipahami.\n",
    "    \n",
    "    \"\"\"\n",
    ")"
   ]
  },
  {
   "cell_type": "code",
   "execution_count": 32,
   "id": "4625894e",
   "metadata": {},
   "outputs": [
    {
     "name": "stdout",
     "output_type": "stream",
     "text": [
      "Berikut adalah analisis tren utama dari data keuangan:\n",
      "\n",
      "1. **Reveneu**: Reveneu perusahaan mengalami fluktuasi, namun terdapat peningkatan pada beberapa kuartal. Pada kuartal 2024-12-31, reveneu mencapai 2.208.740.000.000, yang merupakan nilai tertinggi dalam data tersebut.\n",
      "2. **Operating_expense**: Biaya operasional perusahaan juga mengalami fluktuasi, namun cenderung meningkat. Pada kuartal 2025-06-30, biaya operasional mencapai -130.326.780.408, yang merupakan nilai terendah dalam data tersebut.\n",
      "3. **Net_cash_flow**: Arus kas neto perusahaan mengalami perubahan yang signifikan, dengan nilai positif pada beberapa kuartal dan nilai negatif pada kuartal lainnya. Pada kuartal 2024-12-31, arus kas neto mencapai 417.860.000.000, yang merupakan nilai tertinggi dalam data tersebut.\n"
     ]
    }
   ],
   "source": [
    "interpretasi_tren = llm.invoke(template_trend.format(data=financials))\n",
    "print(interpretasi_tren.content)"
   ]
  },
  {
   "cell_type": "markdown",
   "id": "6db31da1",
   "metadata": {},
   "source": [
    "### Step 5: Detecting Potential Financial Risks"
   ]
  },
  {
   "cell_type": "markdown",
   "id": "49ba559e",
   "metadata": {},
   "source": [
    "Kita juga bisa meminta LLM untuk mencari potensi risiko yang mungkin tersembunyi dalam laporan keuangan `SGRO.JK`. Mari kita suruh AI untuk menjadi \"skeptis\" dan mencari potensi masalah."
   ]
  },
  {
   "cell_type": "code",
   "execution_count": 33,
   "id": "ff565772",
   "metadata": {},
   "outputs": [],
   "source": [
    "template_risk = PromptTemplate.from_template(\n",
    "    \"\"\"\n",
    "    Anda adalah seorang analis risiko keuangan yang skeptis.\n",
    "    Periksa data keuangan berikut dengan teliti:\n",
    "\n",
    "    {data}\n",
    "    \n",
    "    Indentifikasi 1 sampai 3 potensi risiko atau \"red flags\" yang perlu diwaspadai dari data tersebut. \n",
    "    Jelaskan dalam satu kalimat singkat, padat, jelas dan mudah untuk dipahami.\n",
    "\n",
    "    \"\"\"\n",
    ")"
   ]
  },
  {
   "cell_type": "code",
   "execution_count": 34,
   "id": "c6a3112b",
   "metadata": {},
   "outputs": [
    {
     "name": "stdout",
     "output_type": "stream",
     "text": [
      "Beberapa potensi risiko yang perlu diwaspadai dari data tersebut adalah adanya nilai-nilai yang tidak konsisten dan tidak masuk akal seperti \"None\" pada beberapa kolom, nilai pendapatan dan biaya yang sangat besar dan tidak stabil, serta perubahan arah cash flow yang tidak wajar.\n"
     ]
    }
   ],
   "source": [
    "llm_risiko = llm.invoke(template_risk.format(data=financials))\n",
    "print(llm_risiko.content)"
   ]
  }
 ],
 "metadata": {
  "kernelspec": {
   "display_name": "dss_ai",
   "language": "python",
   "name": "python3"
  },
  "language_info": {
   "codemirror_mode": {
    "name": "ipython",
    "version": 3
   },
   "file_extension": ".py",
   "mimetype": "text/x-python",
   "name": "python",
   "nbconvert_exporter": "python",
   "pygments_lexer": "ipython3",
   "version": "3.12.11"
  }
 },
 "nbformat": 4,
 "nbformat_minor": 5
}
